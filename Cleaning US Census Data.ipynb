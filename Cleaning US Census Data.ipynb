{
 "cells": [
  {
   "cell_type": "markdown",
   "metadata": {},
   "source": [
    "# Cleaning US Census Data"
   ]
  },
  {
   "cell_type": "markdown",
   "metadata": {},
   "source": [
    "You just got hired as a Data Analyst at the Census Bureau, which collects census data and creates interesting visualizations and insights from it.\n",
    "\n",
    "The person who had your job before you left you all the data they had for the most recent census. It is in multiple `csv` files. They didn't use pandas, they would just look through these `csv` files manually whenever they wanted to find something. Sometimes they would copy and paste certain numbers into Excel to make charts.\n",
    "\n",
    "The thought of it makes you shiver. This is not scalable or repeatable.\n",
    "\n",
    "Your boss wants you to make some scatterplots and histograms by the end of the day. Can you get this data into `pandas` and into reasonable shape so that you can make these histograms?"
   ]
  },
  {
   "cell_type": "markdown",
   "metadata": {},
   "source": [
    "## Inspect the Data!"
   ]
  },
  {
   "cell_type": "code",
   "execution_count": 1,
   "metadata": {},
   "outputs": [],
   "source": [
    "import pandas as pd\n",
    "import numpy as np\n",
    "import matplotlib.pyplot as plt\n",
    "import seaborn as sns\n",
    "import glob"
   ]
  },
  {
   "cell_type": "markdown",
   "metadata": {},
   "source": [
    "1. The first visualization your boss wants you to make is a scatterplot that shows average income in a state vs proportion of women in that state.\n",
    "\n",
    "   Open some of the census `csv` files that came with the kit you downloaded. How are they named? What kind of information do they hold? Will they help us make this graph?"
   ]
  },
  {
   "cell_type": "code",
   "execution_count": 2,
   "metadata": {},
   "outputs": [
    {
     "name": "stdout",
     "output_type": "stream",
     "text": [
      "<class 'pandas.core.frame.DataFrame'>\n",
      "RangeIndex: 6 entries, 0 to 5\n",
      "Data columns (total 11 columns):\n",
      " #   Column      Non-Null Count  Dtype \n",
      "---  ------      --------------  ----- \n",
      " 0   Unnamed: 0  6 non-null      int64 \n",
      " 1   State       6 non-null      object\n",
      " 2   TotalPop    6 non-null      int64 \n",
      " 3   Hispanic    6 non-null      object\n",
      " 4   White       6 non-null      object\n",
      " 5   Black       6 non-null      object\n",
      " 6   Native      6 non-null      object\n",
      " 7   Asian       6 non-null      object\n",
      " 8   Pacific     5 non-null      object\n",
      " 9   Income      6 non-null      object\n",
      " 10  GenderPop   6 non-null      object\n",
      "dtypes: int64(2), object(9)\n",
      "memory usage: 656.0+ bytes\n",
      "None\n"
     ]
    }
   ],
   "source": [
    "states0 = pd.read_csv('states0.csv')\n",
    "print(states0.info())"
   ]
  },
  {
   "cell_type": "code",
   "execution_count": 3,
   "metadata": {},
   "outputs": [
    {
     "name": "stdout",
     "output_type": "stream",
     "text": [
      "<class 'pandas.core.frame.DataFrame'>\n",
      "RangeIndex: 6 entries, 0 to 5\n",
      "Data columns (total 11 columns):\n",
      " #   Column      Non-Null Count  Dtype \n",
      "---  ------      --------------  ----- \n",
      " 0   Unnamed: 0  6 non-null      int64 \n",
      " 1   State       6 non-null      object\n",
      " 2   TotalPop    6 non-null      int64 \n",
      " 3   Hispanic    6 non-null      object\n",
      " 4   White       6 non-null      object\n",
      " 5   Black       6 non-null      object\n",
      " 6   Native      6 non-null      object\n",
      " 7   Asian       6 non-null      object\n",
      " 8   Pacific     5 non-null      object\n",
      " 9   Income      6 non-null      object\n",
      " 10  GenderPop   6 non-null      object\n",
      "dtypes: int64(2), object(9)\n",
      "memory usage: 656.0+ bytes\n",
      "None\n"
     ]
    }
   ],
   "source": [
    "states3 = pd.read_csv('states3.csv')\n",
    "print(states3.info())"
   ]
  },
  {
   "cell_type": "code",
   "execution_count": 4,
   "metadata": {},
   "outputs": [
    {
     "name": "stdout",
     "output_type": "stream",
     "text": [
      "   Unnamed: 0      State  TotalPop Hispanic   White   Black Native  Asian  \\\n",
      "0           0       Iowa   3093526    5.30%  87.72%   3.26%  0.29%  1.70%   \n",
      "1           1     Kansas   2892987   11.64%  75.96%   6.57%  0.73%  2.33%   \n",
      "2           2   Kentucky   4397353    3.22%  85.23%   8.27%  0.17%  1.13%   \n",
      "3           3  Louisiana   4625253    4.87%  54.98%  36.33%  0.48%  1.67%   \n",
      "4           4      Maine   1329100    1.43%  93.71%   1.13%  0.79%  0.97%   \n",
      "\n",
      "  Pacific       Income          GenderPop  \n",
      "0   0.06%  $53,017.75   1534595M_1558931F  \n",
      "1     NaN  $53,885.61   1439862M_1453125F  \n",
      "2   0.05%  $45,285.80   2164208M_2233145F  \n",
      "3   0.04%  $44,957.99   2261156M_2364097F  \n",
      "4   0.02%  $49,181.97     650081M_679019F  \n"
     ]
    }
   ],
   "source": [
    "print(states3.head())"
   ]
  },
  {
   "cell_type": "markdown",
   "metadata": {},
   "source": [
    "2. It will be easier to inspect this data once we have it in a DataFrame. You can't even call `.head()` on these `csv`s! How are you supposed to read them?\n",
    "\n",
    "   Using `glob`, loop through the census files available and load them into DataFrames. Then, concatenate all of those DataFrames together into one DataFrame, called something like `us_census`."
   ]
  },
  {
   "cell_type": "code",
   "execution_count": 5,
   "metadata": {},
   "outputs": [
    {
     "name": "stdout",
     "output_type": "stream",
     "text": [
      "   Unnamed: 0       State  TotalPop Hispanic   White   Black  Native   Asian  \\\n",
      "0           0     Alabama   4830620    3.75%  61.88%  31.25%   0.45%   1.05%   \n",
      "1           1      Alaska    733375    5.91%  60.91%   2.85%  16.39%   5.45%   \n",
      "2           2     Arizona   6641928   29.57%  57.12%   3.85%   4.36%   2.88%   \n",
      "3           3    Arkansas   2958208    6.22%  71.14%  18.97%   0.52%   1.14%   \n",
      "4           4  California  38421464   37.29%  40.22%   5.68%   0.41%  13.05%   \n",
      "\n",
      "  Pacific       Income            GenderPop  \n",
      "0   0.03%  $43,296.36     2341093M_2489527F  \n",
      "1   1.06%  $70,354.74       384160M_349215F  \n",
      "2   0.17%  $54,207.82     3299088M_3342840F  \n",
      "3   0.15%  $41,935.63     1451913M_1506295F  \n",
      "4   0.35%  $67,264.78   19087135M_19334329F  \n"
     ]
    }
   ],
   "source": [
    "files = glob.glob('states*.csv')\n",
    "df_list = []\n",
    "for filename in files:\n",
    "    data = pd.read_csv(filename)\n",
    "    df_list.append(data)\n",
    "\n",
    "census_df = pd.concat(df_list)\n",
    "print(census_df.head())"
   ]
  },
  {
   "cell_type": "code",
   "execution_count": 6,
   "metadata": {},
   "outputs": [
    {
     "name": "stdout",
     "output_type": "stream",
     "text": [
      "<class 'pandas.core.frame.DataFrame'>\n",
      "Index: 60 entries, 0 to 5\n",
      "Data columns (total 11 columns):\n",
      " #   Column      Non-Null Count  Dtype \n",
      "---  ------      --------------  ----- \n",
      " 0   Unnamed: 0  60 non-null     int64 \n",
      " 1   State       60 non-null     object\n",
      " 2   TotalPop    60 non-null     int64 \n",
      " 3   Hispanic    60 non-null     object\n",
      " 4   White       60 non-null     object\n",
      " 5   Black       60 non-null     object\n",
      " 6   Native      60 non-null     object\n",
      " 7   Asian       60 non-null     object\n",
      " 8   Pacific     55 non-null     object\n",
      " 9   Income      60 non-null     object\n",
      " 10  GenderPop   60 non-null     object\n",
      "dtypes: int64(2), object(9)\n",
      "memory usage: 5.6+ KB\n",
      "None\n"
     ]
    }
   ],
   "source": [
    "print(census_df.info())"
   ]
  },
  {
   "cell_type": "markdown",
   "metadata": {},
   "source": [
    "3. Look at the `.columns` and the `.dtypes` of the `us_census` DataFrame. Are those datatypes going to hinder you as you try to make histograms?"
   ]
  },
  {
   "cell_type": "code",
   "execution_count": 7,
   "metadata": {},
   "outputs": [
    {
     "name": "stdout",
     "output_type": "stream",
     "text": [
      "Index(['Unnamed: 0', 'State', 'TotalPop', 'Hispanic', 'White', 'Black',\n",
      "       'Native', 'Asian', 'Pacific', 'Income', 'GenderPop'],\n",
      "      dtype='object')\n"
     ]
    }
   ],
   "source": [
    "print(census_df.columns)"
   ]
  },
  {
   "cell_type": "code",
   "execution_count": 8,
   "metadata": {},
   "outputs": [
    {
     "name": "stdout",
     "output_type": "stream",
     "text": [
      "Unnamed: 0     int64\n",
      "State         object\n",
      "TotalPop       int64\n",
      "Hispanic      object\n",
      "White         object\n",
      "Black         object\n",
      "Native        object\n",
      "Asian         object\n",
      "Pacific       object\n",
      "Income        object\n",
      "GenderPop     object\n",
      "dtype: object\n"
     ]
    }
   ],
   "source": [
    "print(census_df.dtypes)"
   ]
  },
  {
   "cell_type": "markdown",
   "metadata": {},
   "source": [
    "4. Look at the `head()` of the DataFrame so that you can understand why some of these `dtypes` are objects instead of integers or floats.\n",
    "\n",
    "   Start to make a plan for how to convert these columns into the right types for manipulation."
   ]
  },
  {
   "cell_type": "code",
   "execution_count": 9,
   "metadata": {},
   "outputs": [
    {
     "name": "stdout",
     "output_type": "stream",
     "text": [
      "   Unnamed: 0       State  TotalPop Hispanic   White   Black  Native   Asian  \\\n",
      "0           0     Alabama   4830620    3.75%  61.88%  31.25%   0.45%   1.05%   \n",
      "1           1      Alaska    733375    5.91%  60.91%   2.85%  16.39%   5.45%   \n",
      "2           2     Arizona   6641928   29.57%  57.12%   3.85%   4.36%   2.88%   \n",
      "3           3    Arkansas   2958208    6.22%  71.14%  18.97%   0.52%   1.14%   \n",
      "4           4  California  38421464   37.29%  40.22%   5.68%   0.41%  13.05%   \n",
      "\n",
      "  Pacific       Income            GenderPop  \n",
      "0   0.03%  $43,296.36     2341093M_2489527F  \n",
      "1   1.06%  $70,354.74       384160M_349215F  \n",
      "2   0.17%  $54,207.82     3299088M_3342840F  \n",
      "3   0.15%  $41,935.63     1451913M_1506295F  \n",
      "4   0.35%  $67,264.78   19087135M_19334329F  \n"
     ]
    }
   ],
   "source": [
    "print(census_df.head())"
   ]
  },
  {
   "cell_type": "code",
   "execution_count": 10,
   "metadata": {},
   "outputs": [
    {
     "name": "stdout",
     "output_type": "stream",
     "text": [
      "<class 'pandas.core.frame.DataFrame'>\n",
      "Index: 60 entries, 0 to 5\n",
      "Data columns (total 11 columns):\n",
      " #   Column      Non-Null Count  Dtype \n",
      "---  ------      --------------  ----- \n",
      " 0   Unnamed: 0  60 non-null     int64 \n",
      " 1   State       60 non-null     object\n",
      " 2   TotalPop    60 non-null     int64 \n",
      " 3   Hispanic    60 non-null     object\n",
      " 4   White       60 non-null     object\n",
      " 5   Black       60 non-null     object\n",
      " 6   Native      60 non-null     object\n",
      " 7   Asian       60 non-null     object\n",
      " 8   Pacific     55 non-null     object\n",
      " 9   Income      60 non-null     object\n",
      " 10  GenderPop   60 non-null     object\n",
      "dtypes: int64(2), object(9)\n",
      "memory usage: 5.6+ KB\n",
      "None\n"
     ]
    }
   ],
   "source": [
    "print(census_df.info())"
   ]
  },
  {
   "cell_type": "markdown",
   "metadata": {},
   "source": [
    "## Regex to the Rescue"
   ]
  },
  {
   "cell_type": "markdown",
   "metadata": {},
   "source": [
    "5. Use regex to turn the `Income` column into a format that is ready for conversion into a numerical type."
   ]
  },
  {
   "cell_type": "code",
   "execution_count": 11,
   "metadata": {},
   "outputs": [
    {
     "name": "stdout",
     "output_type": "stream",
     "text": [
      "   Unnamed: 0       State  TotalPop Hispanic   White   Black  Native   Asian  \\\n",
      "0           0     Alabama   4830620    3.75%  61.88%  31.25%   0.45%   1.05%   \n",
      "1           1      Alaska    733375    5.91%  60.91%   2.85%  16.39%   5.45%   \n",
      "2           2     Arizona   6641928   29.57%  57.12%   3.85%   4.36%   2.88%   \n",
      "3           3    Arkansas   2958208    6.22%  71.14%  18.97%   0.52%   1.14%   \n",
      "4           4  California  38421464   37.29%  40.22%   5.68%   0.41%  13.05%   \n",
      "\n",
      "  Pacific    Income            GenderPop  \n",
      "0   0.03%  43296.36    2341093M_2489527F  \n",
      "1   1.06%  70354.74      384160M_349215F  \n",
      "2   0.17%  54207.82    3299088M_3342840F  \n",
      "3   0.15%  41935.63    1451913M_1506295F  \n",
      "4   0.35%  67264.78  19087135M_19334329F  \n"
     ]
    }
   ],
   "source": [
    "census_df['Income'] = census_df['Income'].replace('[\\$,]', '', regex=True)\n",
    "census_df['Income'] = pd.to_numeric(census_df['Income'])\n",
    "print(census_df.head())"
   ]
  },
  {
   "cell_type": "code",
   "execution_count": 12,
   "metadata": {},
   "outputs": [
    {
     "name": "stdout",
     "output_type": "stream",
     "text": [
      "<class 'pandas.core.frame.DataFrame'>\n",
      "Index: 60 entries, 0 to 5\n",
      "Data columns (total 11 columns):\n",
      " #   Column      Non-Null Count  Dtype  \n",
      "---  ------      --------------  -----  \n",
      " 0   Unnamed: 0  60 non-null     int64  \n",
      " 1   State       60 non-null     object \n",
      " 2   TotalPop    60 non-null     int64  \n",
      " 3   Hispanic    60 non-null     object \n",
      " 4   White       60 non-null     object \n",
      " 5   Black       60 non-null     object \n",
      " 6   Native      60 non-null     object \n",
      " 7   Asian       60 non-null     object \n",
      " 8   Pacific     55 non-null     object \n",
      " 9   Income      60 non-null     float64\n",
      " 10  GenderPop   60 non-null     object \n",
      "dtypes: float64(1), int64(2), object(8)\n",
      "memory usage: 5.6+ KB\n",
      "None\n"
     ]
    }
   ],
   "source": [
    "print(census_df.info())"
   ]
  },
  {
   "cell_type": "markdown",
   "metadata": {},
   "source": [
    "6. Look at the `GenderPop` column. We are going to want to separate this into two columns, the `Men` column, and the `Women` column.\n",
    "\n",
    "   Split the column into those two new columns using `str.split` and separating out those results."
   ]
  },
  {
   "cell_type": "code",
   "execution_count": 13,
   "metadata": {},
   "outputs": [
    {
     "name": "stdout",
     "output_type": "stream",
     "text": [
      "           0          1\n",
      "0   2341093M   2489527F\n",
      "1    384160M    349215F\n",
      "2   3299088M   3342840F\n",
      "3   1451913M   1506295F\n",
      "4  19087135M  19334329F\n"
     ]
    }
   ],
   "source": [
    "split_census_df = census_df['GenderPop'].str.split('_', expand=True)\n",
    "print(split_census_df.head())"
   ]
  },
  {
   "cell_type": "code",
   "execution_count": 14,
   "metadata": {},
   "outputs": [
    {
     "name": "stdout",
     "output_type": "stream",
     "text": [
      "          0         1\n",
      "0   2341093   2489527\n",
      "1    384160    349215\n",
      "2   3299088   3342840\n",
      "3   1451913   1506295\n",
      "4  19087135  19334329\n"
     ]
    }
   ],
   "source": [
    "split_census_df[0] = split_census_df[0].replace('M', '', regex=True)\n",
    "split_census_df[1] = split_census_df[1].replace('F', '', regex=True)\n",
    "print(split_census_df.head())"
   ]
  },
  {
   "cell_type": "code",
   "execution_count": 15,
   "metadata": {},
   "outputs": [
    {
     "name": "stdout",
     "output_type": "stream",
     "text": [
      "   Unnamed: 0       State  TotalPop Hispanic   White   Black  Native   Asian  \\\n",
      "0           0     Alabama   4830620    3.75%  61.88%  31.25%   0.45%   1.05%   \n",
      "1           1      Alaska    733375    5.91%  60.91%   2.85%  16.39%   5.45%   \n",
      "2           2     Arizona   6641928   29.57%  57.12%   3.85%   4.36%   2.88%   \n",
      "3           3    Arkansas   2958208    6.22%  71.14%  18.97%   0.52%   1.14%   \n",
      "4           4  California  38421464   37.29%  40.22%   5.68%   0.41%  13.05%   \n",
      "\n",
      "  Pacific    Income            GenderPop       Men       Women  \n",
      "0   0.03%  43296.36    2341093M_2489527F   2341093   2489527.0  \n",
      "1   1.06%  70354.74      384160M_349215F    384160    349215.0  \n",
      "2   0.17%  54207.82    3299088M_3342840F   3299088   3342840.0  \n",
      "3   0.15%  41935.63    1451913M_1506295F   1451913   1506295.0  \n",
      "4   0.35%  67264.78  19087135M_19334329F  19087135  19334329.0  \n"
     ]
    }
   ],
   "source": [
    "census_df['Men'] = pd.to_numeric(split_census_df[0])\n",
    "census_df['Women'] = pd.to_numeric(split_census_df[1])\n",
    "print(census_df.head())"
   ]
  },
  {
   "cell_type": "code",
   "execution_count": 16,
   "metadata": {},
   "outputs": [
    {
     "name": "stdout",
     "output_type": "stream",
     "text": [
      "<class 'pandas.core.frame.DataFrame'>\n",
      "Index: 60 entries, 0 to 5\n",
      "Data columns (total 13 columns):\n",
      " #   Column      Non-Null Count  Dtype  \n",
      "---  ------      --------------  -----  \n",
      " 0   Unnamed: 0  60 non-null     int64  \n",
      " 1   State       60 non-null     object \n",
      " 2   TotalPop    60 non-null     int64  \n",
      " 3   Hispanic    60 non-null     object \n",
      " 4   White       60 non-null     object \n",
      " 5   Black       60 non-null     object \n",
      " 6   Native      60 non-null     object \n",
      " 7   Asian       60 non-null     object \n",
      " 8   Pacific     55 non-null     object \n",
      " 9   Income      60 non-null     float64\n",
      " 10  GenderPop   60 non-null     object \n",
      " 11  Men         60 non-null     int64  \n",
      " 12  Women       57 non-null     float64\n",
      "dtypes: float64(2), int64(3), object(8)\n",
      "memory usage: 6.6+ KB\n",
      "None\n"
     ]
    }
   ],
   "source": [
    "print(census_df.info())"
   ]
  },
  {
   "cell_type": "markdown",
   "metadata": {},
   "source": [
    "7. Convert both of the columns into numerical datatypes.\n",
    "\n",
    "   There is still an `M` or an `F` character in each entry! We should remove those before we convert."
   ]
  },
  {
   "cell_type": "markdown",
   "metadata": {},
   "source": [
    "DONE ABOVE"
   ]
  },
  {
   "cell_type": "markdown",
   "metadata": {},
   "source": [
    "8. Now you should have the columns you need to make the graph and make sure your boss does not slam a ruler angrily on your desk because you've wasted your whole day cleaning your data with no results to show!\n",
    "\n",
    "   Use matplotlib to make a scatterplot!\n",
    "   \n",
    "   ```py\n",
    "   plt.scatter(the_women_column, the_income_column)\n",
    "   ```\n",
    "   \n",
    "   Remember to call `plt.show()` to see the graph!"
   ]
  },
  {
   "cell_type": "code",
   "execution_count": 17,
   "metadata": {},
   "outputs": [
    {
     "data": {
      "image/png": "[encoded data removed]",
      "text/plain": [
       "<Figure size 640x480 with 1 Axes>"
      ]
     },
     "metadata": {},
     "output_type": "display_data"
    },
    {
     "data": {
      "text/plain": [
       "<Figure size 640x480 with 0 Axes>"
      ]
     },
     "metadata": {},
     "output_type": "display_data"
    }
   ],
   "source": [
    "plt.scatter(census_df.Women, census_df.Income)\n",
    "plt.title(\"Incomes of Women in the US\")\n",
    "plt.xlabel(\"Women\")\n",
    "plt.ylabel(\"Income\")\n",
    "plt.show()\n",
    "plt.clf()"
   ]
  },
  {
   "cell_type": "markdown",
   "metadata": {},
   "source": [
    "9. You want to double check your work. You know from experience that these monstrous csv files probably have `nan` values in them! Print out your column with the number of women per state to see.\n",
    "\n",
    "   We can fill in those `nan`s by using pandas' `.fillna()` function.\n",
    "   \n",
    "   You have the `TotalPop` per state, and you have the `Men` per state. As an estimate for the `nan` values in the `Women` column, you could use the `TotalPop` of that state minus the `Men` for that state.\n",
    "   \n",
    "   Print out the `Women` column after filling the `nan` values to see if it worked!"
   ]
  },
  {
   "cell_type": "code",
   "execution_count": 18,
   "metadata": {},
   "outputs": [
    {
     "name": "stdout",
     "output_type": "stream",
     "text": [
      "<class 'pandas.core.frame.DataFrame'>\n",
      "Index: 60 entries, 0 to 5\n",
      "Data columns (total 13 columns):\n",
      " #   Column      Non-Null Count  Dtype  \n",
      "---  ------      --------------  -----  \n",
      " 0   Unnamed: 0  60 non-null     int64  \n",
      " 1   State       60 non-null     object \n",
      " 2   TotalPop    60 non-null     int64  \n",
      " 3   Hispanic    60 non-null     object \n",
      " 4   White       60 non-null     object \n",
      " 5   Black       60 non-null     object \n",
      " 6   Native      60 non-null     object \n",
      " 7   Asian       60 non-null     object \n",
      " 8   Pacific     55 non-null     object \n",
      " 9   Income      60 non-null     float64\n",
      " 10  GenderPop   60 non-null     object \n",
      " 11  Men         60 non-null     int64  \n",
      " 12  Women       60 non-null     float64\n",
      "dtypes: float64(2), int64(3), object(8)\n",
      "memory usage: 6.6+ KB\n",
      "None\n"
     ]
    }
   ],
   "source": [
    "census_df['Women'] = census_df['Women'].fillna(census_df['TotalPop'] - census_df['Men'])\n",
    "print(census_df.info())"
   ]
  },
  {
   "cell_type": "code",
   "execution_count": 19,
   "metadata": {},
   "outputs": [
    {
     "name": "stdout",
     "output_type": "stream",
     "text": [
      "0     2489527.0\n",
      "1      349215.0\n",
      "2     3342840.0\n",
      "3     1506295.0\n",
      "4    19334329.0\n",
      "5     2630239.0\n",
      "0     2630239.0\n",
      "1     1841615.0\n",
      "2      478041.0\n",
      "3      340810.0\n",
      "4    10045763.0\n",
      "5     5123362.0\n",
      "0     5123362.0\n",
      "1      696428.0\n",
      "2      806083.0\n",
      "3     6556862.0\n",
      "4     3333382.0\n",
      "5     1558931.0\n",
      "0     1558931.0\n",
      "1     1453125.0\n",
      "2     2233145.0\n",
      "3     2364097.0\n",
      "4      679019.0\n",
      "5     3057895.0\n",
      "0     3057895.0\n",
      "1     3455936.0\n",
      "2     5038598.0\n",
      "3     2727005.0\n",
      "4     1536358.0\n",
      "5     3081445.0\n",
      "0     3081445.0\n",
      "1      504536.0\n",
      "2      939759.0\n",
      "3     1390901.0\n",
      "4      670717.0\n",
      "5     4561386.0\n",
      "0     4561386.0\n",
      "1     1051703.0\n",
      "2    10131373.0\n",
      "3     5049925.0\n",
      "4      353677.0\n",
      "5     5913084.0\n",
      "0     5913084.0\n",
      "1     1942789.0\n",
      "2     1990780.0\n",
      "3     6534215.0\n",
      "4     1869213.0\n",
      "5      543273.0\n",
      "0      543273.0\n",
      "1     2455167.0\n",
      "2      419713.0\n",
      "3     3331859.0\n",
      "4    13367298.0\n",
      "5     1444150.0\n",
      "0     1444150.0\n",
      "1      318031.0\n",
      "2     4195682.0\n",
      "3     3497739.0\n",
      "4      937789.0\n",
      "5     2890732.0\n",
      "Name: Women, dtype: float64\n"
     ]
    }
   ],
   "source": [
    "print(census_df.Women)"
   ]
  },
  {
   "cell_type": "code",
   "execution_count": 20,
   "metadata": {},
   "outputs": [
    {
     "data": {
      "image/png": "[encoded data removed]",
      "text/plain": [
       "<Figure size 640x480 with 1 Axes>"
      ]
     },
     "metadata": {},
     "output_type": "display_data"
    },
    {
     "data": {
      "text/plain": [
       "<Figure size 640x480 with 0 Axes>"
      ]
     },
     "metadata": {},
     "output_type": "display_data"
    }
   ],
   "source": [
    "plt.scatter(census_df.Women, census_df.Income)\n",
    "plt.title(\"Incomes of Women in the US\")\n",
    "plt.xlabel(\"Women\")\n",
    "plt.ylabel(\"Income\")\n",
    "plt.show()\n",
    "plt.clf()"
   ]
  },
  {
   "cell_type": "markdown",
   "metadata": {},
   "source": [
    "10. We forgot to check for duplicates! Use `.duplicated()` on your `census` DataFrame to see if we have duplicate rows in there."
   ]
  },
  {
   "cell_type": "code",
   "execution_count": 21,
   "metadata": {},
   "outputs": [
    {
     "name": "stdout",
     "output_type": "stream",
     "text": [
      "0    False\n",
      "1    False\n",
      "2    False\n",
      "3    False\n",
      "4    False\n",
      "5    False\n",
      "0    False\n",
      "1    False\n",
      "2    False\n",
      "3    False\n",
      "4    False\n",
      "5    False\n",
      "0    False\n",
      "1    False\n",
      "2    False\n",
      "3    False\n",
      "4    False\n",
      "5    False\n",
      "0    False\n",
      "1    False\n",
      "2    False\n",
      "3    False\n",
      "4    False\n",
      "5    False\n",
      "0    False\n",
      "1    False\n",
      "2    False\n",
      "3    False\n",
      "4    False\n",
      "5    False\n",
      "0    False\n",
      "1    False\n",
      "2    False\n",
      "3    False\n",
      "4    False\n",
      "5    False\n",
      "0    False\n",
      "1    False\n",
      "2    False\n",
      "3    False\n",
      "4    False\n",
      "5    False\n",
      "0    False\n",
      "1    False\n",
      "2    False\n",
      "3    False\n",
      "4    False\n",
      "5    False\n",
      "0    False\n",
      "1    False\n",
      "2    False\n",
      "3    False\n",
      "4    False\n",
      "5    False\n",
      "0    False\n",
      "1    False\n",
      "2    False\n",
      "3    False\n",
      "4    False\n",
      "5    False\n",
      "dtype: bool\n"
     ]
    }
   ],
   "source": [
    "print(census_df.duplicated())"
   ]
  },
  {
   "cell_type": "markdown",
   "metadata": {},
   "source": [
    "11. Drop those duplicates using the `.drop_duplicates()` function."
   ]
  },
  {
   "cell_type": "code",
   "execution_count": 22,
   "metadata": {},
   "outputs": [
    {
     "name": "stdout",
     "output_type": "stream",
     "text": [
      "0    False\n",
      "1    False\n",
      "2    False\n",
      "3    False\n",
      "4    False\n",
      "5    False\n",
      "0    False\n",
      "1    False\n",
      "2    False\n",
      "3    False\n",
      "4    False\n",
      "5    False\n",
      "0    False\n",
      "1    False\n",
      "2    False\n",
      "3    False\n",
      "4    False\n",
      "5    False\n",
      "0    False\n",
      "1    False\n",
      "2    False\n",
      "3    False\n",
      "4    False\n",
      "5    False\n",
      "0    False\n",
      "1    False\n",
      "2    False\n",
      "3    False\n",
      "4    False\n",
      "5    False\n",
      "0    False\n",
      "1    False\n",
      "2    False\n",
      "3    False\n",
      "4    False\n",
      "5    False\n",
      "0    False\n",
      "1    False\n",
      "2    False\n",
      "3    False\n",
      "4    False\n",
      "5    False\n",
      "0    False\n",
      "1    False\n",
      "2    False\n",
      "3    False\n",
      "4    False\n",
      "5    False\n",
      "0    False\n",
      "1    False\n",
      "2    False\n",
      "3    False\n",
      "4    False\n",
      "5    False\n",
      "0    False\n",
      "1    False\n",
      "2    False\n",
      "3    False\n",
      "4    False\n",
      "5    False\n",
      "dtype: bool\n"
     ]
    }
   ],
   "source": [
    "census_df.drop_duplicates()\n",
    "print(census_df.duplicated())"
   ]
  },
  {
   "cell_type": "code",
   "execution_count": 23,
   "metadata": {},
   "outputs": [
    {
     "name": "stdout",
     "output_type": "stream",
     "text": [
      "<class 'pandas.core.frame.DataFrame'>\n",
      "Index: 60 entries, 0 to 5\n",
      "Data columns (total 13 columns):\n",
      " #   Column      Non-Null Count  Dtype  \n",
      "---  ------      --------------  -----  \n",
      " 0   Unnamed: 0  60 non-null     int64  \n",
      " 1   State       60 non-null     object \n",
      " 2   TotalPop    60 non-null     int64  \n",
      " 3   Hispanic    60 non-null     object \n",
      " 4   White       60 non-null     object \n",
      " 5   Black       60 non-null     object \n",
      " 6   Native      60 non-null     object \n",
      " 7   Asian       60 non-null     object \n",
      " 8   Pacific     55 non-null     object \n",
      " 9   Income      60 non-null     float64\n",
      " 10  GenderPop   60 non-null     object \n",
      " 11  Men         60 non-null     int64  \n",
      " 12  Women       60 non-null     float64\n",
      "dtypes: float64(2), int64(3), object(8)\n",
      "memory usage: 6.6+ KB\n",
      "None\n"
     ]
    }
   ],
   "source": [
    "print(census_df.info())"
   ]
  },
  {
   "cell_type": "markdown",
   "metadata": {},
   "source": [
    "12. Make the scatterplot again. Now, it should be perfect! Your job is secure, for now."
   ]
  },
  {
   "cell_type": "code",
   "execution_count": 24,
   "metadata": {},
   "outputs": [
    {
     "data": {
      "image/png": "[encoded data removed]",
      "text/plain": [
       "<Figure size 640x480 with 1 Axes>"
      ]
     },
     "metadata": {},
     "output_type": "display_data"
    },
    {
     "data": {
      "text/plain": [
       "<Figure size 640x480 with 0 Axes>"
      ]
     },
     "metadata": {},
     "output_type": "display_data"
    }
   ],
   "source": [
    "plt.scatter(census_df.Women, census_df.Income)\n",
    "plt.title(\"Incomes of Women in the US\")\n",
    "plt.xlabel(\"Women\")\n",
    "plt.ylabel(\"Income\")\n",
    "plt.show()\n",
    "plt.clf()"
   ]
  },
  {
   "cell_type": "markdown",
   "metadata": {},
   "source": [
    "## Histogram of Races"
   ]
  },
  {
   "cell_type": "markdown",
   "metadata": {},
   "source": [
    "13. Now your boss wants you to make a bunch of histograms out of the race data that you have. Look at the `.columns` again to see what the race categories are."
   ]
  },
  {
   "cell_type": "code",
   "execution_count": 25,
   "metadata": {},
   "outputs": [
    {
     "name": "stdout",
     "output_type": "stream",
     "text": [
      "<class 'pandas.core.frame.DataFrame'>\n",
      "Index: 60 entries, 0 to 5\n",
      "Data columns (total 13 columns):\n",
      " #   Column      Non-Null Count  Dtype  \n",
      "---  ------      --------------  -----  \n",
      " 0   Unnamed: 0  60 non-null     int64  \n",
      " 1   State       60 non-null     object \n",
      " 2   TotalPop    60 non-null     int64  \n",
      " 3   Hispanic    60 non-null     object \n",
      " 4   White       60 non-null     object \n",
      " 5   Black       60 non-null     object \n",
      " 6   Native      60 non-null     object \n",
      " 7   Asian       60 non-null     object \n",
      " 8   Pacific     55 non-null     object \n",
      " 9   Income      60 non-null     float64\n",
      " 10  GenderPop   60 non-null     object \n",
      " 11  Men         60 non-null     int64  \n",
      " 12  Women       60 non-null     float64\n",
      "dtypes: float64(2), int64(3), object(8)\n",
      "memory usage: 6.6+ KB\n",
      "None\n"
     ]
    }
   ],
   "source": [
    "print(census_df.info())"
   ]
  },
  {
   "cell_type": "code",
   "execution_count": 26,
   "metadata": {},
   "outputs": [
    {
     "name": "stdout",
     "output_type": "stream",
     "text": [
      "   Unnamed: 0       State  TotalPop Hispanic   White   Black  Native   Asian  \\\n",
      "0           0     Alabama   4830620    3.75%  61.88%  31.25%   0.45%   1.05%   \n",
      "1           1      Alaska    733375    5.91%  60.91%   2.85%  16.39%   5.45%   \n",
      "2           2     Arizona   6641928   29.57%  57.12%   3.85%   4.36%   2.88%   \n",
      "3           3    Arkansas   2958208    6.22%  71.14%  18.97%   0.52%   1.14%   \n",
      "4           4  California  38421464   37.29%  40.22%   5.68%   0.41%  13.05%   \n",
      "\n",
      "  Pacific    Income            GenderPop       Men       Women  \n",
      "0   0.03%  43296.36    2341093M_2489527F   2341093   2489527.0  \n",
      "1   1.06%  70354.74      384160M_349215F    384160    349215.0  \n",
      "2   0.17%  54207.82    3299088M_3342840F   3299088   3342840.0  \n",
      "3   0.15%  41935.63    1451913M_1506295F   1451913   1506295.0  \n",
      "4   0.35%  67264.78  19087135M_19334329F  19087135  19334329.0  \n"
     ]
    }
   ],
   "source": [
    "print(census_df.head())"
   ]
  },
  {
   "cell_type": "code",
   "execution_count": 27,
   "metadata": {},
   "outputs": [
    {
     "name": "stdout",
     "output_type": "stream",
     "text": [
      "   Unnamed: 0       State  TotalPop  Hispanic   White   Black  Native   Asian  \\\n",
      "0           0     Alabama   4830620      3.75  61.88%  31.25%   0.45%   1.05%   \n",
      "1           1      Alaska    733375      5.91  60.91%   2.85%  16.39%   5.45%   \n",
      "2           2     Arizona   6641928     29.57  57.12%   3.85%   4.36%   2.88%   \n",
      "3           3    Arkansas   2958208      6.22  71.14%  18.97%   0.52%   1.14%   \n",
      "4           4  California  38421464     37.29  40.22%   5.68%   0.41%  13.05%   \n",
      "\n",
      "  Pacific    Income            GenderPop       Men       Women  \n",
      "0   0.03%  43296.36    2341093M_2489527F   2341093   2489527.0  \n",
      "1   1.06%  70354.74      384160M_349215F    384160    349215.0  \n",
      "2   0.17%  54207.82    3299088M_3342840F   3299088   3342840.0  \n",
      "3   0.15%  41935.63    1451913M_1506295F   1451913   1506295.0  \n",
      "4   0.35%  67264.78  19087135M_19334329F  19087135  19334329.0  \n"
     ]
    }
   ],
   "source": [
    "census_df['Hispanic'] = census_df['Hispanic'].replace('[\\%,]', '', regex=True)\n",
    "census_df['Hispanic'] = pd.to_numeric(census_df['Hispanic'])\n",
    "print(census_df.head())"
   ]
  },
  {
   "cell_type": "code",
   "execution_count": 28,
   "metadata": {},
   "outputs": [
    {
     "name": "stdout",
     "output_type": "stream",
     "text": [
      "   Unnamed: 0       State  TotalPop  Hispanic  White   Black  Native   Asian  \\\n",
      "0           0     Alabama   4830620      3.75  61.88  31.25%   0.45%   1.05%   \n",
      "1           1      Alaska    733375      5.91  60.91   2.85%  16.39%   5.45%   \n",
      "2           2     Arizona   6641928     29.57  57.12   3.85%   4.36%   2.88%   \n",
      "3           3    Arkansas   2958208      6.22  71.14  18.97%   0.52%   1.14%   \n",
      "4           4  California  38421464     37.29  40.22   5.68%   0.41%  13.05%   \n",
      "\n",
      "  Pacific    Income            GenderPop       Men       Women  \n",
      "0   0.03%  43296.36    2341093M_2489527F   2341093   2489527.0  \n",
      "1   1.06%  70354.74      384160M_349215F    384160    349215.0  \n",
      "2   0.17%  54207.82    3299088M_3342840F   3299088   3342840.0  \n",
      "3   0.15%  41935.63    1451913M_1506295F   1451913   1506295.0  \n",
      "4   0.35%  67264.78  19087135M_19334329F  19087135  19334329.0  \n"
     ]
    }
   ],
   "source": [
    "census_df['White'] = census_df['White'].replace('[\\%,]', '', regex=True)\n",
    "census_df['White'] = pd.to_numeric(census_df['White'])\n",
    "print(census_df.head())"
   ]
  },
  {
   "cell_type": "code",
   "execution_count": 29,
   "metadata": {},
   "outputs": [
    {
     "name": "stdout",
     "output_type": "stream",
     "text": [
      "   Unnamed: 0       State  TotalPop  Hispanic  White  Black  Native  Asian  \\\n",
      "0           0     Alabama   4830620      3.75  61.88  31.25    0.45   1.05   \n",
      "1           1      Alaska    733375      5.91  60.91   2.85   16.39   5.45   \n",
      "2           2     Arizona   6641928     29.57  57.12   3.85    4.36   2.88   \n",
      "3           3    Arkansas   2958208      6.22  71.14  18.97    0.52   1.14   \n",
      "4           4  California  38421464     37.29  40.22   5.68    0.41  13.05   \n",
      "\n",
      "   Pacific    Income            GenderPop       Men       Women  \n",
      "0     0.03  43296.36    2341093M_2489527F   2341093   2489527.0  \n",
      "1     1.06  70354.74      384160M_349215F    384160    349215.0  \n",
      "2     0.17  54207.82    3299088M_3342840F   3299088   3342840.0  \n",
      "3     0.15  41935.63    1451913M_1506295F   1451913   1506295.0  \n",
      "4     0.35  67264.78  19087135M_19334329F  19087135  19334329.0  \n"
     ]
    }
   ],
   "source": [
    "census_df['Black'] = census_df['Black'].replace('[\\%,]', '', regex=True)\n",
    "census_df['Black'] = pd.to_numeric(census_df['Black'])\n",
    "census_df['Native'] = census_df['Native'].replace('[\\%,]', '', regex=True)\n",
    "census_df['Native'] = pd.to_numeric(census_df['Native'])\n",
    "census_df['Asian'] = census_df['Asian'].replace('[\\%,]', '', regex=True)\n",
    "census_df['Asian'] = pd.to_numeric(census_df['Asian'])\n",
    "census_df['Pacific'] = census_df['Pacific'].replace('[\\%,]', '', regex=True)\n",
    "census_df['Pacific'] = pd.to_numeric(census_df['Pacific'])\n",
    "print(census_df.head())"
   ]
  },
  {
   "cell_type": "code",
   "execution_count": 31,
   "metadata": {},
   "outputs": [
    {
     "name": "stdout",
     "output_type": "stream",
     "text": [
      "<class 'pandas.core.frame.DataFrame'>\n",
      "Index: 60 entries, 0 to 5\n",
      "Data columns (total 13 columns):\n",
      " #   Column      Non-Null Count  Dtype  \n",
      "---  ------      --------------  -----  \n",
      " 0   Unnamed: 0  60 non-null     int64  \n",
      " 1   State       60 non-null     object \n",
      " 2   TotalPop    60 non-null     int64  \n",
      " 3   Hispanic    60 non-null     float64\n",
      " 4   White       60 non-null     float64\n",
      " 5   Black       60 non-null     float64\n",
      " 6   Native      60 non-null     float64\n",
      " 7   Asian       60 non-null     float64\n",
      " 8   Pacific     60 non-null     float64\n",
      " 9   Income      60 non-null     float64\n",
      " 10  GenderPop   60 non-null     object \n",
      " 11  Men         60 non-null     int64  \n",
      " 12  Women       60 non-null     float64\n",
      "dtypes: float64(8), int64(3), object(2)\n",
      "memory usage: 6.6+ KB\n",
      "None\n"
     ]
    }
   ],
   "source": [
    "exc_pac = census_df['Hispanic'] + census_df['White'] + census_df['Black'] + census_df['Asian'] + census_df['Native']\n",
    "census_df['Pacific'] = census_df['Pacific'].fillna(100 - exc_pac)\n",
    "print(census_df.info())"
   ]
  },
  {
   "cell_type": "code",
   "execution_count": 33,
   "metadata": {},
   "outputs": [
    {
     "name": "stdout",
     "output_type": "stream",
     "text": [
      "   Unnamed: 0       State  TotalPop  Hispanic  White  Black  Native  Asian  \\\n",
      "0           0     Alabama   4830620      3.75  61.88  31.25    0.45   1.05   \n",
      "1           1      Alaska    733375      5.91  60.91   2.85   16.39   5.45   \n",
      "2           2     Arizona   6641928     29.57  57.12   3.85    4.36   2.88   \n",
      "3           3    Arkansas   2958208      6.22  71.14  18.97    0.52   1.14   \n",
      "4           4  California  38421464     37.29  40.22   5.68    0.41  13.05   \n",
      "\n",
      "   Pacific    Income            GenderPop       Men       Women  \n",
      "0     0.03  43296.36    2341093M_2489527F   2341093   2489527.0  \n",
      "1     1.06  70354.74      384160M_349215F    384160    349215.0  \n",
      "2     0.17  54207.82    3299088M_3342840F   3299088   3342840.0  \n",
      "3     0.15  41935.63    1451913M_1506295F   1451913   1506295.0  \n",
      "4     0.35  67264.78  19087135M_19334329F  19087135  19334329.0  \n"
     ]
    }
   ],
   "source": [
    "print(census_df.head())"
   ]
  },
  {
   "cell_type": "code",
   "execution_count": 60,
   "metadata": {},
   "outputs": [
    {
     "name": "stdout",
     "output_type": "stream",
     "text": [
      "   Unnamed: 0      State  TotalPop  Hispanic  White  Black  Native  Asian  \\\n",
      "5           5  Wisconsin   5742117      6.68  79.86    8.2    0.95    2.4   \n",
      "\n",
      "   Pacific    Income          GenderPop      Men      Women  \n",
      "5     0.02  53898.89  2851385M_2890732F  2851385  2890732.0  \n"
     ]
    }
   ],
   "source": [
    "wisc = census_df[census_df['State'] == 'Wisconsin']\n",
    "print(wisc)"
   ]
  },
  {
   "cell_type": "markdown",
   "metadata": {},
   "source": [
    "14. Try to make a histogram for each one!\n",
    "\n",
    "    You will have to get the columns into the numerical format, and those percentage signs will have to go.\n",
    "    \n",
    "    Don't forget to fill the `nan` values with something that makes sense! You probably dropped the duplicate rows when making your last graph, but it couldn't hurt to check for duplicates again."
   ]
  },
  {
   "cell_type": "code",
   "execution_count": 49,
   "metadata": {},
   "outputs": [],
   "source": [
    "hispanic = census_df.groupby('State').Hispanic.sum().reset_index()\n",
    "white = census_df.groupby('State').White.sum().reset_index()\n",
    "black = census_df.groupby('State').Black.sum().reset_index()\n",
    "native = census_df.groupby('State').Native.sum().reset_index()\n",
    "asian = census_df.groupby('State').Asian.sum().reset_index()\n",
    "pacific = census_df.groupby('State').Pacific.sum().reset_index()"
   ]
  },
  {
   "cell_type": "code",
   "execution_count": 61,
   "metadata": {},
   "outputs": [
    {
     "name": "stdout",
     "output_type": "stream",
     "text": [
      "                   State  Hispanic\n",
      "0                Alabama      3.75\n",
      "1                 Alaska      5.91\n",
      "2                Arizona     29.57\n",
      "3               Arkansas      6.22\n",
      "4             California     37.29\n",
      "5               Colorado     41.56\n",
      "6            Connecticut     15.60\n",
      "7               Delaware      8.82\n",
      "8   District of Columbia      9.17\n",
      "9                Florida     21.34\n",
      "10               Georgia     16.84\n",
      "11                Hawaii      9.19\n",
      "12                 Idaho     11.51\n",
      "13              Illinois     15.60\n",
      "14               Indiana      6.54\n",
      "15                  Iowa     10.60\n",
      "16                Kansas     11.64\n",
      "17              Kentucky      3.22\n",
      "18             Louisiana      4.87\n",
      "19                 Maine      1.43\n",
      "20              Maryland     16.94\n",
      "21         Massachusetts     11.46\n",
      "22              Michigan      4.63\n",
      "23             Minnesota      5.15\n",
      "24           Mississippi      2.84\n",
      "25              Missouri      8.08\n",
      "26               Montana      3.27\n",
      "27              Nebraska      9.20\n",
      "28                Nevada     27.10\n",
      "29         New Hampshire      3.32\n",
      "30            New Jersey     37.50\n",
      "31            New Mexico     45.28\n",
      "32              New York     17.24\n",
      "33        North Carolina      8.46\n",
      "34          North Dakota      2.83\n",
      "35                  Ohio      7.34\n",
      "36              Oklahoma     10.08\n",
      "37                Oregon     11.44\n",
      "38          Pennsylvania      6.13\n",
      "39           Puerto Rico     98.89\n",
      "40          Rhode Island     26.72\n",
      "41        South Carolina      5.06\n",
      "42          South Dakota      3.24\n",
      "43             Tennessee      4.72\n",
      "44                 Texas     38.05\n",
      "45                  Utah     26.94\n",
      "46               Vermont      1.61\n",
      "47              Virginia      8.01\n",
      "48            Washington     11.14\n",
      "49         West Virginia      1.29\n",
      "50             Wisconsin      6.68\n"
     ]
    }
   ],
   "source": [
    "print(hispanic)"
   ]
  },
  {
   "cell_type": "code",
   "execution_count": null,
   "metadata": {},
   "outputs": [],
   "source": [
    "states_list = list(census_df.State.unique())"
   ]
  },
  {
   "cell_type": "code",
   "execution_count": 69,
   "metadata": {},
   "outputs": [
    {
     "ename": "ValueError",
     "evalue": "'locs' must be 1D with shape (N,), but your input has shape (1, 20)",
     "output_type": "error",
     "traceback": [
      "\u001b[1;31m---------------------------------------------------------------------------\u001b[0m",
      "\u001b[1;31mValueError\u001b[0m                                Traceback (most recent call last)",
      "Cell \u001b[1;32mIn[69], line 4\u001b[0m\n\u001b[0;32m      2\u001b[0m ax1\u001b[38;5;241m.\u001b[39mplot(hispanic\u001b[38;5;241m.\u001b[39mState, hispanic\u001b[38;5;241m.\u001b[39mHispanic)\n\u001b[0;32m      3\u001b[0m ax1\u001b[38;5;241m.\u001b[39mset_xticks(\u001b[38;5;28mrange\u001b[39m(\u001b[38;5;241m50\u001b[39m))\n\u001b[1;32m----> 4\u001b[0m \u001b[43max1\u001b[49m\u001b[38;5;241;43m.\u001b[39;49m\u001b[43mset_yticks\u001b[49m\u001b[43m(\u001b[49m\u001b[43m[\u001b[49m\u001b[38;5;28;43mrange\u001b[39;49m\u001b[43m(\u001b[49m\u001b[38;5;241;43m0\u001b[39;49m\u001b[43m,\u001b[49m\u001b[43m \u001b[49m\u001b[38;5;241;43m100\u001b[39;49m\u001b[43m,\u001b[49m\u001b[43m \u001b[49m\u001b[38;5;241;43m5\u001b[39;49m\u001b[43m)\u001b[49m\u001b[43m]\u001b[49m\u001b[43m)\u001b[49m\n\u001b[0;32m      5\u001b[0m ax1\u001b[38;5;241m.\u001b[39mset_xticklabels([\u001b[38;5;28mstr\u001b[39m(state) \u001b[38;5;28;01mfor\u001b[39;00m state \u001b[38;5;129;01min\u001b[39;00m states_list], rotation\u001b[38;5;241m=\u001b[39m\u001b[38;5;241m90\u001b[39m)\n\u001b[0;32m      6\u001b[0m ax1\u001b[38;5;241m.\u001b[39mset_yticklabels([\u001b[38;5;28mstr\u001b[39m(pct) \u001b[38;5;241m+\u001b[39m \u001b[38;5;124m'\u001b[39m\u001b[38;5;124m%\u001b[39m\u001b[38;5;124m'\u001b[39m \u001b[38;5;28;01mfor\u001b[39;00m pct \u001b[38;5;129;01min\u001b[39;00m \u001b[38;5;28mrange\u001b[39m(\u001b[38;5;241m0\u001b[39m, \u001b[38;5;241m100\u001b[39m, \u001b[38;5;241m5\u001b[39m)])\n",
      "File \u001b[1;32m~\\miniconda3\\lib\\site-packages\\matplotlib\\axes\\_base.py:73\u001b[0m, in \u001b[0;36m_axis_method_wrapper.__set_name__.<locals>.wrapper\u001b[1;34m(self, *args, **kwargs)\u001b[0m\n\u001b[0;32m     72\u001b[0m \u001b[38;5;28;01mdef\u001b[39;00m \u001b[38;5;21mwrapper\u001b[39m(\u001b[38;5;28mself\u001b[39m, \u001b[38;5;241m*\u001b[39margs, \u001b[38;5;241m*\u001b[39m\u001b[38;5;241m*\u001b[39mkwargs):\n\u001b[1;32m---> 73\u001b[0m     \u001b[38;5;28;01mreturn\u001b[39;00m get_method(\u001b[38;5;28mself\u001b[39m)(\u001b[38;5;241m*\u001b[39margs, \u001b[38;5;241m*\u001b[39m\u001b[38;5;241m*\u001b[39mkwargs)\n",
      "File \u001b[1;32m~\\miniconda3\\lib\\site-packages\\matplotlib\\axis.py:2138\u001b[0m, in \u001b[0;36mAxis.set_ticks\u001b[1;34m(self, ticks, labels, minor, **kwargs)\u001b[0m\n\u001b[0;32m   2133\u001b[0m     first_key \u001b[38;5;241m=\u001b[39m \u001b[38;5;28mnext\u001b[39m(\u001b[38;5;28miter\u001b[39m(kwargs))\n\u001b[0;32m   2134\u001b[0m     \u001b[38;5;28;01mraise\u001b[39;00m \u001b[38;5;167;01mValueError\u001b[39;00m(\n\u001b[0;32m   2135\u001b[0m         \u001b[38;5;124mf\u001b[39m\u001b[38;5;124m\"\u001b[39m\u001b[38;5;124mIncorrect use of keyword argument \u001b[39m\u001b[38;5;132;01m{\u001b[39;00mfirst_key\u001b[38;5;132;01m!r}\u001b[39;00m\u001b[38;5;124m. Keyword arguments \u001b[39m\u001b[38;5;124m\"\u001b[39m\n\u001b[0;32m   2136\u001b[0m         \u001b[38;5;124m\"\u001b[39m\u001b[38;5;124mother than \u001b[39m\u001b[38;5;124m'\u001b[39m\u001b[38;5;124mminor\u001b[39m\u001b[38;5;124m'\u001b[39m\u001b[38;5;124m modify the text labels and can only be used if \u001b[39m\u001b[38;5;124m\"\u001b[39m\n\u001b[0;32m   2137\u001b[0m         \u001b[38;5;124m\"\u001b[39m\u001b[38;5;124m'\u001b[39m\u001b[38;5;124mlabels\u001b[39m\u001b[38;5;124m'\u001b[39m\u001b[38;5;124m are passed as well.\u001b[39m\u001b[38;5;124m\"\u001b[39m)\n\u001b[1;32m-> 2138\u001b[0m result \u001b[38;5;241m=\u001b[39m \u001b[38;5;28;43mself\u001b[39;49m\u001b[38;5;241;43m.\u001b[39;49m\u001b[43m_set_tick_locations\u001b[49m\u001b[43m(\u001b[49m\u001b[43mticks\u001b[49m\u001b[43m,\u001b[49m\u001b[43m \u001b[49m\u001b[43mminor\u001b[49m\u001b[38;5;241;43m=\u001b[39;49m\u001b[43mminor\u001b[49m\u001b[43m)\u001b[49m\n\u001b[0;32m   2139\u001b[0m \u001b[38;5;28;01mif\u001b[39;00m labels \u001b[38;5;129;01mis\u001b[39;00m \u001b[38;5;129;01mnot\u001b[39;00m \u001b[38;5;28;01mNone\u001b[39;00m:\n\u001b[0;32m   2140\u001b[0m     \u001b[38;5;28mself\u001b[39m\u001b[38;5;241m.\u001b[39mset_ticklabels(labels, minor\u001b[38;5;241m=\u001b[39mminor, \u001b[38;5;241m*\u001b[39m\u001b[38;5;241m*\u001b[39mkwargs)\n",
      "File \u001b[1;32m~\\miniconda3\\lib\\site-packages\\matplotlib\\axis.py:2078\u001b[0m, in \u001b[0;36mAxis._set_tick_locations\u001b[1;34m(self, ticks, minor)\u001b[0m\n\u001b[0;32m   2073\u001b[0m \u001b[38;5;28;01mdef\u001b[39;00m \u001b[38;5;21m_set_tick_locations\u001b[39m(\u001b[38;5;28mself\u001b[39m, ticks, \u001b[38;5;241m*\u001b[39m, minor\u001b[38;5;241m=\u001b[39m\u001b[38;5;28;01mFalse\u001b[39;00m):\n\u001b[0;32m   2074\u001b[0m     \u001b[38;5;66;03m# see docstring of set_ticks\u001b[39;00m\n\u001b[0;32m   2075\u001b[0m \n\u001b[0;32m   2076\u001b[0m     \u001b[38;5;66;03m# XXX if the user changes units, the information will be lost here\u001b[39;00m\n\u001b[0;32m   2077\u001b[0m     ticks \u001b[38;5;241m=\u001b[39m \u001b[38;5;28mself\u001b[39m\u001b[38;5;241m.\u001b[39mconvert_units(ticks)\n\u001b[1;32m-> 2078\u001b[0m     locator \u001b[38;5;241m=\u001b[39m \u001b[43mmticker\u001b[49m\u001b[38;5;241;43m.\u001b[39;49m\u001b[43mFixedLocator\u001b[49m\u001b[43m(\u001b[49m\u001b[43mticks\u001b[49m\u001b[43m)\u001b[49m  \u001b[38;5;66;03m# validate ticks early.\u001b[39;00m\n\u001b[0;32m   2079\u001b[0m     \u001b[38;5;28;01mif\u001b[39;00m \u001b[38;5;28mlen\u001b[39m(ticks):\n\u001b[0;32m   2080\u001b[0m         \u001b[38;5;28;01mfor\u001b[39;00m axis \u001b[38;5;129;01min\u001b[39;00m \u001b[38;5;28mself\u001b[39m\u001b[38;5;241m.\u001b[39m_get_shared_axis():\n\u001b[0;32m   2081\u001b[0m             \u001b[38;5;66;03m# set_view_interval maintains any preexisting inversion.\u001b[39;00m\n",
      "File \u001b[1;32m~\\miniconda3\\lib\\site-packages\\matplotlib\\ticker.py:1700\u001b[0m, in \u001b[0;36mFixedLocator.__init__\u001b[1;34m(self, locs, nbins)\u001b[0m\n\u001b[0;32m   1698\u001b[0m \u001b[38;5;28;01mdef\u001b[39;00m \u001b[38;5;21m__init__\u001b[39m(\u001b[38;5;28mself\u001b[39m, locs, nbins\u001b[38;5;241m=\u001b[39m\u001b[38;5;28;01mNone\u001b[39;00m):\n\u001b[0;32m   1699\u001b[0m     \u001b[38;5;28mself\u001b[39m\u001b[38;5;241m.\u001b[39mlocs \u001b[38;5;241m=\u001b[39m np\u001b[38;5;241m.\u001b[39masarray(locs)\n\u001b[1;32m-> 1700\u001b[0m     \u001b[43m_api\u001b[49m\u001b[38;5;241;43m.\u001b[39;49m\u001b[43mcheck_shape\u001b[49m\u001b[43m(\u001b[49m\u001b[43m(\u001b[49m\u001b[38;5;28;43;01mNone\u001b[39;49;00m\u001b[43m,\u001b[49m\u001b[43m)\u001b[49m\u001b[43m,\u001b[49m\u001b[43m \u001b[49m\u001b[43mlocs\u001b[49m\u001b[38;5;241;43m=\u001b[39;49m\u001b[38;5;28;43mself\u001b[39;49m\u001b[38;5;241;43m.\u001b[39;49m\u001b[43mlocs\u001b[49m\u001b[43m)\u001b[49m\n\u001b[0;32m   1701\u001b[0m     \u001b[38;5;28mself\u001b[39m\u001b[38;5;241m.\u001b[39mnbins \u001b[38;5;241m=\u001b[39m \u001b[38;5;28mmax\u001b[39m(nbins, \u001b[38;5;241m2\u001b[39m) \u001b[38;5;28;01mif\u001b[39;00m nbins \u001b[38;5;129;01mis\u001b[39;00m \u001b[38;5;129;01mnot\u001b[39;00m \u001b[38;5;28;01mNone\u001b[39;00m \u001b[38;5;28;01melse\u001b[39;00m \u001b[38;5;28;01mNone\u001b[39;00m\n",
      "File \u001b[1;32m~\\miniconda3\\lib\\site-packages\\matplotlib\\_api\\__init__.py:161\u001b[0m, in \u001b[0;36mcheck_shape\u001b[1;34m(shape, **kwargs)\u001b[0m\n\u001b[0;32m    158\u001b[0m \u001b[38;5;28;01mif\u001b[39;00m \u001b[38;5;28mlen\u001b[39m(shape) \u001b[38;5;241m==\u001b[39m \u001b[38;5;241m1\u001b[39m:\n\u001b[0;32m    159\u001b[0m     text_shape \u001b[38;5;241m+\u001b[39m\u001b[38;5;241m=\u001b[39m \u001b[38;5;124m\"\u001b[39m\u001b[38;5;124m,\u001b[39m\u001b[38;5;124m\"\u001b[39m\n\u001b[1;32m--> 161\u001b[0m \u001b[38;5;28;01mraise\u001b[39;00m \u001b[38;5;167;01mValueError\u001b[39;00m(\n\u001b[0;32m    162\u001b[0m     \u001b[38;5;124mf\u001b[39m\u001b[38;5;124m\"\u001b[39m\u001b[38;5;132;01m{\u001b[39;00mk\u001b[38;5;132;01m!r}\u001b[39;00m\u001b[38;5;124m must be \u001b[39m\u001b[38;5;132;01m{\u001b[39;00m\u001b[38;5;28mlen\u001b[39m(shape)\u001b[38;5;132;01m}\u001b[39;00m\u001b[38;5;124mD with shape (\u001b[39m\u001b[38;5;132;01m{\u001b[39;00mtext_shape\u001b[38;5;132;01m}\u001b[39;00m\u001b[38;5;124m), \u001b[39m\u001b[38;5;124m\"\u001b[39m\n\u001b[0;32m    163\u001b[0m     \u001b[38;5;124mf\u001b[39m\u001b[38;5;124m\"\u001b[39m\u001b[38;5;124mbut your input has shape \u001b[39m\u001b[38;5;132;01m{\u001b[39;00mv\u001b[38;5;241m.\u001b[39mshape\u001b[38;5;132;01m}\u001b[39;00m\u001b[38;5;124m\"\u001b[39m\n\u001b[0;32m    164\u001b[0m )\n",
      "\u001b[1;31mValueError\u001b[0m: 'locs' must be 1D with shape (N,), but your input has shape (1, 20)"
     ]
    },
    {
     "data": {
      "image/png": "[encoded data removed]",
      "text/plain": [
       "<Figure size 640x480 with 1 Axes>"
      ]
     },
     "metadata": {},
     "output_type": "display_data"
    }
   ],
   "source": [
    "ax1 = plt.subplot()\n",
    "ax1.plot(hispanic.State, hispanic.Hispanic)\n",
    "ax1.set_xticks(range(50))\n",
    "ax1.set_yticks([range(0, 100, 5)])\n",
    "ax1.set_xticklabels([str(state) for state in states_list], rotation=90)\n",
    "ax1.set_yticklabels([str(pct) + '%' for pct in range(0, 100, 5)])\n",
    "\n",
    "plt.show()\n",
    "plt.clf()"
   ]
  },
  {
   "cell_type": "markdown",
   "metadata": {},
   "source": [
    "## Get Creative"
   ]
  },
  {
   "cell_type": "markdown",
   "metadata": {},
   "source": [
    "15. Phew. You've definitely impressed your boss on your first day of work.\n",
    "\n",
    "    But is there a way you really convey the power of pandas and Python over the drudgery of `csv` and Excel?\n",
    "    \n",
    "    Try to make some more interesting graphs to show your boss, and the world! You may need to clean the data even more to do it, or the cleaning you have already done may give you the ease of manipulation you've been searching for."
   ]
  },
  {
   "cell_type": "code",
   "execution_count": null,
   "metadata": {},
   "outputs": [],
   "source": []
  }
 ],
 "metadata": {
  "kernelspec": {
   "display_name": "Python 3 (ipykernel)",
   "language": "python",
   "name": "python3"
  },
  "language_info": {
   "codemirror_mode": {
    "name": "ipython",
    "version": 3
   },
   "file_extension": ".py",
   "mimetype": "text/x-python",
   "name": "python",
   "nbconvert_exporter": "python",
   "pygments_lexer": "ipython3",
   "version": "3.10.14"
  }
 },
 "nbformat": 4,
 "nbformat_minor": 4
}
