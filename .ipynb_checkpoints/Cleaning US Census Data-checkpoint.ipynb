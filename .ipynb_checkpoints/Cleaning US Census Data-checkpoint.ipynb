{
 "cells": [
  {
   "cell_type": "markdown",
   "metadata": {},
   "source": [
    "# Cleaning US Census Data"
   ]
  },
  {
   "cell_type": "markdown",
   "metadata": {},
   "source": [
    "You just got hired as a Data Analyst at the Census Bureau, which collects census data and creates interesting visualizations and insights from it.\n",
    "\n",
    "The person who had your job before you left you all the data they had for the most recent census. It is in multiple `csv` files. They didn't use pandas, they would just look through these `csv` files manually whenever they wanted to find something. Sometimes they would copy and paste certain numbers into Excel to make charts.\n",
    "\n",
    "The thought of it makes you shiver. This is not scalable or repeatable.\n",
    "\n",
    "Your boss wants you to make some scatterplots and histograms by the end of the day. Can you get this data into `pandas` and into reasonable shape so that you can make these histograms?"
   ]
  },
  {
   "cell_type": "markdown",
   "metadata": {},
   "source": [
    "## Inspect the Data!"
   ]
  },
  {
   "cell_type": "code",
   "execution_count": 8,
   "metadata": {},
   "outputs": [],
   "source": [
    "import pandas as pd\n",
    "import numpy as np\n",
    "import matplotlib.pyplot as plt\n",
    "import seaborn as sns\n",
    "import glob"
   ]
  },
  {
   "cell_type": "markdown",
   "metadata": {},
   "source": [
    "1. The first visualization your boss wants you to make is a scatterplot that shows average income in a state vs proportion of women in that state.\n",
    "\n",
    "   Open some of the census `csv` files that came with the kit you downloaded. How are they named? What kind of information do they hold? Will they help us make this graph?"
   ]
  },
  {
   "cell_type": "code",
   "execution_count": 3,
   "metadata": {},
   "outputs": [
    {
     "name": "stdout",
     "output_type": "stream",
     "text": [
      "<class 'pandas.core.frame.DataFrame'>\n",
      "RangeIndex: 6 entries, 0 to 5\n",
      "Data columns (total 11 columns):\n",
      " #   Column      Non-Null Count  Dtype \n",
      "---  ------      --------------  ----- \n",
      " 0   Unnamed: 0  6 non-null      int64 \n",
      " 1   State       6 non-null      object\n",
      " 2   TotalPop    6 non-null      int64 \n",
      " 3   Hispanic    6 non-null      object\n",
      " 4   White       6 non-null      object\n",
      " 5   Black       6 non-null      object\n",
      " 6   Native      6 non-null      object\n",
      " 7   Asian       6 non-null      object\n",
      " 8   Pacific     5 non-null      object\n",
      " 9   Income      6 non-null      object\n",
      " 10  GenderPop   6 non-null      object\n",
      "dtypes: int64(2), object(9)\n",
      "memory usage: 656.0+ bytes\n",
      "None\n"
     ]
    }
   ],
   "source": [
    "states0 = pd.read_csv('states0.csv')\n",
    "print(states0.info())"
   ]
  },
  {
   "cell_type": "code",
   "execution_count": 4,
   "metadata": {},
   "outputs": [
    {
     "name": "stdout",
     "output_type": "stream",
     "text": [
      "   Unnamed: 0       State  TotalPop Hispanic   White   Black  Native   Asian  \\\n",
      "0           0     Alabama   4830620    3.75%  61.88%  31.25%   0.45%   1.05%   \n",
      "1           1      Alaska    733375    5.91%  60.91%   2.85%  16.39%   5.45%   \n",
      "2           2     Arizona   6641928   29.57%  57.12%   3.85%   4.36%   2.88%   \n",
      "3           3    Arkansas   2958208    6.22%  71.14%  18.97%   0.52%   1.14%   \n",
      "4           4  California  38421464   37.29%  40.22%   5.68%   0.41%  13.05%   \n",
      "\n",
      "  Pacific       Income            GenderPop  \n",
      "0   0.03%  $43,296.36     2341093M_2489527F  \n",
      "1   1.06%  $70,354.74       384160M_349215F  \n",
      "2   0.17%  $54,207.82     3299088M_3342840F  \n",
      "3   0.15%  $41,935.63     1451913M_1506295F  \n",
      "4   0.35%  $67,264.78   19087135M_19334329F  \n"
     ]
    }
   ],
   "source": [
    "print(states0.head())"
   ]
  },
  {
   "cell_type": "code",
   "execution_count": 5,
   "metadata": {},
   "outputs": [
    {
     "name": "stdout",
     "output_type": "stream",
     "text": [
      "<class 'pandas.core.frame.DataFrame'>\n",
      "RangeIndex: 6 entries, 0 to 5\n",
      "Data columns (total 11 columns):\n",
      " #   Column      Non-Null Count  Dtype \n",
      "---  ------      --------------  ----- \n",
      " 0   Unnamed: 0  6 non-null      int64 \n",
      " 1   State       6 non-null      object\n",
      " 2   TotalPop    6 non-null      int64 \n",
      " 3   Hispanic    6 non-null      object\n",
      " 4   White       6 non-null      object\n",
      " 5   Black       6 non-null      object\n",
      " 6   Native      6 non-null      object\n",
      " 7   Asian       6 non-null      object\n",
      " 8   Pacific     5 non-null      object\n",
      " 9   Income      6 non-null      object\n",
      " 10  GenderPop   6 non-null      object\n",
      "dtypes: int64(2), object(9)\n",
      "memory usage: 656.0+ bytes\n",
      "None\n"
     ]
    }
   ],
   "source": [
    "states3 = pd.read_csv('states3.csv')\n",
    "print(states3.info())"
   ]
  },
  {
   "cell_type": "code",
   "execution_count": 6,
   "metadata": {},
   "outputs": [
    {
     "name": "stdout",
     "output_type": "stream",
     "text": [
      "   Unnamed: 0      State  TotalPop Hispanic   White   Black Native  Asian  \\\n",
      "0           0       Iowa   3093526    5.30%  87.72%   3.26%  0.29%  1.70%   \n",
      "1           1     Kansas   2892987   11.64%  75.96%   6.57%  0.73%  2.33%   \n",
      "2           2   Kentucky   4397353    3.22%  85.23%   8.27%  0.17%  1.13%   \n",
      "3           3  Louisiana   4625253    4.87%  54.98%  36.33%  0.48%  1.67%   \n",
      "4           4      Maine   1329100    1.43%  93.71%   1.13%  0.79%  0.97%   \n",
      "\n",
      "  Pacific       Income          GenderPop  \n",
      "0   0.06%  $53,017.75   1534595M_1558931F  \n",
      "1     NaN  $53,885.61   1439862M_1453125F  \n",
      "2   0.05%  $45,285.80   2164208M_2233145F  \n",
      "3   0.04%  $44,957.99   2261156M_2364097F  \n",
      "4   0.02%  $49,181.97     650081M_679019F  \n"
     ]
    }
   ],
   "source": [
    "print(states3.head())"
   ]
  },
  {
   "cell_type": "markdown",
   "metadata": {},
   "source": [
    "2. It will be easier to inspect this data once we have it in a DataFrame. You can't even call `.head()` on these `csv`s! How are you supposed to read them?\n",
    "\n",
    "   Using `glob`, loop through the census files available and load them into DataFrames. Then, concatenate all of those DataFrames together into one DataFrame, called something like `us_census`."
   ]
  },
  {
   "cell_type": "code",
   "execution_count": 9,
   "metadata": {},
   "outputs": [
    {
     "name": "stdout",
     "output_type": "stream",
     "text": [
      "   Unnamed: 0       State  TotalPop Hispanic   White   Black  Native   Asian  \\\n",
      "0           0     Alabama   4830620    3.75%  61.88%  31.25%   0.45%   1.05%   \n",
      "1           1      Alaska    733375    5.91%  60.91%   2.85%  16.39%   5.45%   \n",
      "2           2     Arizona   6641928   29.57%  57.12%   3.85%   4.36%   2.88%   \n",
      "3           3    Arkansas   2958208    6.22%  71.14%  18.97%   0.52%   1.14%   \n",
      "4           4  California  38421464   37.29%  40.22%   5.68%   0.41%  13.05%   \n",
      "\n",
      "  Pacific       Income            GenderPop  \n",
      "0   0.03%  $43,296.36     2341093M_2489527F  \n",
      "1   1.06%  $70,354.74       384160M_349215F  \n",
      "2   0.17%  $54,207.82     3299088M_3342840F  \n",
      "3   0.15%  $41,935.63     1451913M_1506295F  \n",
      "4   0.35%  $67,264.78   19087135M_19334329F  \n"
     ]
    }
   ],
   "source": [
    "files = glob.glob('states*.csv')\n",
    "df_list = []\n",
    "for filename in files:\n",
    "    data = pd.read_csv(filename)\n",
    "    df_list.append(data)\n",
    "\n",
    "census_df = pd.concat(df_list)\n",
    "print(census_df.head())"
   ]
  },
  {
   "cell_type": "code",
   "execution_count": 10,
   "metadata": {},
   "outputs": [
    {
     "name": "stdout",
     "output_type": "stream",
     "text": [
      "<class 'pandas.core.frame.DataFrame'>\n",
      "Index: 60 entries, 0 to 5\n",
      "Data columns (total 11 columns):\n",
      " #   Column      Non-Null Count  Dtype \n",
      "---  ------      --------------  ----- \n",
      " 0   Unnamed: 0  60 non-null     int64 \n",
      " 1   State       60 non-null     object\n",
      " 2   TotalPop    60 non-null     int64 \n",
      " 3   Hispanic    60 non-null     object\n",
      " 4   White       60 non-null     object\n",
      " 5   Black       60 non-null     object\n",
      " 6   Native      60 non-null     object\n",
      " 7   Asian       60 non-null     object\n",
      " 8   Pacific     55 non-null     object\n",
      " 9   Income      60 non-null     object\n",
      " 10  GenderPop   60 non-null     object\n",
      "dtypes: int64(2), object(9)\n",
      "memory usage: 5.6+ KB\n",
      "None\n"
     ]
    }
   ],
   "source": [
    "print(census_df.info())"
   ]
  },
  {
   "cell_type": "markdown",
   "metadata": {},
   "source": [
    "3. Look at the `.columns` and the `.dtypes` of the `us_census` DataFrame. Are those datatypes going to hinder you as you try to make histograms?"
   ]
  },
  {
   "cell_type": "code",
   "execution_count": 11,
   "metadata": {},
   "outputs": [
    {
     "name": "stdout",
     "output_type": "stream",
     "text": [
      "Index(['Unnamed: 0', 'State', 'TotalPop', 'Hispanic', 'White', 'Black',\n",
      "       'Native', 'Asian', 'Pacific', 'Income', 'GenderPop'],\n",
      "      dtype='object')\n"
     ]
    }
   ],
   "source": [
    "print(census_df.columns)"
   ]
  },
  {
   "cell_type": "code",
   "execution_count": 12,
   "metadata": {},
   "outputs": [
    {
     "name": "stdout",
     "output_type": "stream",
     "text": [
      "Unnamed: 0     int64\n",
      "State         object\n",
      "TotalPop       int64\n",
      "Hispanic      object\n",
      "White         object\n",
      "Black         object\n",
      "Native        object\n",
      "Asian         object\n",
      "Pacific       object\n",
      "Income        object\n",
      "GenderPop     object\n",
      "dtype: object\n"
     ]
    }
   ],
   "source": [
    "print(census_df.dtypes)"
   ]
  },
  {
   "cell_type": "markdown",
   "metadata": {},
   "source": [
    "4. Look at the `head()` of the DataFrame so that you can understand why some of these `dtypes` are objects instead of integers or floats.\n",
    "\n",
    "   Start to make a plan for how to convert these columns into the right types for manipulation."
   ]
  },
  {
   "cell_type": "code",
   "execution_count": 13,
   "metadata": {},
   "outputs": [
    {
     "name": "stdout",
     "output_type": "stream",
     "text": [
      "   Unnamed: 0       State  TotalPop Hispanic   White   Black  Native   Asian  \\\n",
      "0           0     Alabama   4830620    3.75%  61.88%  31.25%   0.45%   1.05%   \n",
      "1           1      Alaska    733375    5.91%  60.91%   2.85%  16.39%   5.45%   \n",
      "2           2     Arizona   6641928   29.57%  57.12%   3.85%   4.36%   2.88%   \n",
      "3           3    Arkansas   2958208    6.22%  71.14%  18.97%   0.52%   1.14%   \n",
      "4           4  California  38421464   37.29%  40.22%   5.68%   0.41%  13.05%   \n",
      "\n",
      "  Pacific       Income            GenderPop  \n",
      "0   0.03%  $43,296.36     2341093M_2489527F  \n",
      "1   1.06%  $70,354.74       384160M_349215F  \n",
      "2   0.17%  $54,207.82     3299088M_3342840F  \n",
      "3   0.15%  $41,935.63     1451913M_1506295F  \n",
      "4   0.35%  $67,264.78   19087135M_19334329F  \n"
     ]
    }
   ],
   "source": [
    "print(census_df.head())"
   ]
  },
  {
   "cell_type": "markdown",
   "metadata": {},
   "source": [
    "## Regex to the Rescue"
   ]
  },
  {
   "cell_type": "markdown",
   "metadata": {},
   "source": [
    "5. Use regex to turn the `Income` column into a format that is ready for conversion into a numerical type."
   ]
  },
  {
   "cell_type": "code",
   "execution_count": 14,
   "metadata": {},
   "outputs": [
    {
     "name": "stdout",
     "output_type": "stream",
     "text": [
      "   Unnamed: 0       State  TotalPop Hispanic   White   Black  Native   Asian  \\\n",
      "0           0     Alabama   4830620    3.75%  61.88%  31.25%   0.45%   1.05%   \n",
      "1           1      Alaska    733375    5.91%  60.91%   2.85%  16.39%   5.45%   \n",
      "2           2     Arizona   6641928   29.57%  57.12%   3.85%   4.36%   2.88%   \n",
      "3           3    Arkansas   2958208    6.22%  71.14%  18.97%   0.52%   1.14%   \n",
      "4           4  California  38421464   37.29%  40.22%   5.68%   0.41%  13.05%   \n",
      "\n",
      "  Pacific    Income            GenderPop  \n",
      "0   0.03%  43296.36    2341093M_2489527F  \n",
      "1   1.06%  70354.74      384160M_349215F  \n",
      "2   0.17%  54207.82    3299088M_3342840F  \n",
      "3   0.15%  41935.63    1451913M_1506295F  \n",
      "4   0.35%  67264.78  19087135M_19334329F  \n"
     ]
    }
   ],
   "source": [
    "census_df['Income'] = census_df['Income'].replace('[\\$,]', '', regex=True)\n",
    "census_df['Income'] = pd.to_numeric(census_df['Income'])\n",
    "print(census_df.head())"
   ]
  },
  {
   "cell_type": "code",
   "execution_count": 15,
   "metadata": {},
   "outputs": [
    {
     "name": "stdout",
     "output_type": "stream",
     "text": [
      "<class 'pandas.core.frame.DataFrame'>\n",
      "Index: 60 entries, 0 to 5\n",
      "Data columns (total 11 columns):\n",
      " #   Column      Non-Null Count  Dtype  \n",
      "---  ------      --------------  -----  \n",
      " 0   Unnamed: 0  60 non-null     int64  \n",
      " 1   State       60 non-null     object \n",
      " 2   TotalPop    60 non-null     int64  \n",
      " 3   Hispanic    60 non-null     object \n",
      " 4   White       60 non-null     object \n",
      " 5   Black       60 non-null     object \n",
      " 6   Native      60 non-null     object \n",
      " 7   Asian       60 non-null     object \n",
      " 8   Pacific     55 non-null     object \n",
      " 9   Income      60 non-null     float64\n",
      " 10  GenderPop   60 non-null     object \n",
      "dtypes: float64(1), int64(2), object(8)\n",
      "memory usage: 5.6+ KB\n",
      "None\n"
     ]
    }
   ],
   "source": [
    "print(census_df.info())"
   ]
  },
  {
   "cell_type": "markdown",
   "metadata": {},
   "source": [
    "6. Look at the `GenderPop` column. We are going to want to separate this into two columns, the `Men` column, and the `Women` column.\n",
    "\n",
    "   Split the column into those two new columns using `str.split` and separating out those results."
   ]
  },
  {
   "cell_type": "code",
   "execution_count": 19,
   "metadata": {},
   "outputs": [
    {
     "name": "stdout",
     "output_type": "stream",
     "text": [
      "           0          1\n",
      "0   2341093M   2489527F\n",
      "1    384160M    349215F\n",
      "2   3299088M   3342840F\n",
      "3   1451913M   1506295F\n",
      "4  19087135M  19334329F\n"
     ]
    }
   ],
   "source": [
    "split_census_df = census_df['GenderPop'].str.split('_', expand=True)\n",
    "print(split_census_df.head())"
   ]
  },
  {
   "cell_type": "code",
   "execution_count": 23,
   "metadata": {},
   "outputs": [
    {
     "name": "stdout",
     "output_type": "stream",
     "text": [
      "          0         1\n",
      "0   2341093   2489527\n",
      "1    384160    349215\n",
      "2   3299088   3342840\n",
      "3   1451913   1506295\n",
      "4  19087135  19334329\n"
     ]
    }
   ],
   "source": [
    "split_census_df[0] = split_census_df[0].replace('M', '', regex=True)\n",
    "split_census_df[1] = split_census_df[1].replace('F', '', regex=True)\n",
    "print(split_census_df.head())"
   ]
  },
  {
   "cell_type": "code",
   "execution_count": 24,
   "metadata": {},
   "outputs": [
    {
     "name": "stdout",
     "output_type": "stream",
     "text": [
      "   Unnamed: 0       State  TotalPop Hispanic   White   Black  Native   Asian  \\\n",
      "0           0     Alabama   4830620    3.75%  61.88%  31.25%   0.45%   1.05%   \n",
      "1           1      Alaska    733375    5.91%  60.91%   2.85%  16.39%   5.45%   \n",
      "2           2     Arizona   6641928   29.57%  57.12%   3.85%   4.36%   2.88%   \n",
      "3           3    Arkansas   2958208    6.22%  71.14%  18.97%   0.52%   1.14%   \n",
      "4           4  California  38421464   37.29%  40.22%   5.68%   0.41%  13.05%   \n",
      "\n",
      "  Pacific    Income            GenderPop       Men       Women  \n",
      "0   0.03%  43296.36    2341093M_2489527F   2341093   2489527.0  \n",
      "1   1.06%  70354.74      384160M_349215F    384160    349215.0  \n",
      "2   0.17%  54207.82    3299088M_3342840F   3299088   3342840.0  \n",
      "3   0.15%  41935.63    1451913M_1506295F   1451913   1506295.0  \n",
      "4   0.35%  67264.78  19087135M_19334329F  19087135  19334329.0  \n"
     ]
    }
   ],
   "source": [
    "census_df['Men'] = pd.to_numeric(split_census_df[0])\n",
    "census_df['Women'] = pd.to_numeric(split_census_df[1])\n",
    "print(census_df.head())"
   ]
  },
  {
   "cell_type": "code",
   "execution_count": 25,
   "metadata": {},
   "outputs": [
    {
     "name": "stdout",
     "output_type": "stream",
     "text": [
      "<class 'pandas.core.frame.DataFrame'>\n",
      "Index: 60 entries, 0 to 5\n",
      "Data columns (total 13 columns):\n",
      " #   Column      Non-Null Count  Dtype  \n",
      "---  ------      --------------  -----  \n",
      " 0   Unnamed: 0  60 non-null     int64  \n",
      " 1   State       60 non-null     object \n",
      " 2   TotalPop    60 non-null     int64  \n",
      " 3   Hispanic    60 non-null     object \n",
      " 4   White       60 non-null     object \n",
      " 5   Black       60 non-null     object \n",
      " 6   Native      60 non-null     object \n",
      " 7   Asian       60 non-null     object \n",
      " 8   Pacific     55 non-null     object \n",
      " 9   Income      60 non-null     float64\n",
      " 10  GenderPop   60 non-null     object \n",
      " 11  Men         60 non-null     int64  \n",
      " 12  Women       57 non-null     float64\n",
      "dtypes: float64(2), int64(3), object(8)\n",
      "memory usage: 6.6+ KB\n",
      "None\n"
     ]
    }
   ],
   "source": [
    "print(census_df.info())"
   ]
  },
  {
   "cell_type": "markdown",
   "metadata": {},
   "source": [
    "7. Convert both of the columns into numerical datatypes.\n",
    "\n",
    "   There is still an `M` or an `F` character in each entry! We should remove those before we convert."
   ]
  },
  {
   "cell_type": "markdown",
   "metadata": {},
   "source": [
    "DONE ABOVE"
   ]
  },
  {
   "cell_type": "markdown",
   "metadata": {},
   "source": [
    "8. Now you should have the columns you need to make the graph and make sure your boss does not slam a ruler angrily on your desk because you've wasted your whole day cleaning your data with no results to show!\n",
    "\n",
    "   Use matplotlib to make a scatterplot!\n",
    "   \n",
    "   ```py\n",
    "   plt.scatter(the_women_column, the_income_column)\n",
    "   ```\n",
    "   \n",
    "   Remember to call `plt.show()` to see the graph!"
   ]
  },
  {
   "cell_type": "code",
   "execution_count": 26,
   "metadata": {},
   "outputs": [
    {
     "data": {
      "image/png": "[encoded data removed]",
      "text/plain": [
       "<Figure size 640x480 with 1 Axes>"
      ]
     },
     "metadata": {},
     "output_type": "display_data"
    },
    {
     "data": {
      "text/plain": [
       "<Figure size 640x480 with 0 Axes>"
      ]
     },
     "metadata": {},
     "output_type": "display_data"
    }
   ],
   "source": [
    "plt.scatter(census_df.Women, census_df.Income)\n",
    "plt.show()\n",
    "plt.clf()"
   ]
  },
  {
   "cell_type": "markdown",
   "metadata": {},
   "source": [
    "9. You want to double check your work. You know from experience that these monstrous csv files probably have `nan` values in them! Print out your column with the number of women per state to see.\n",
    "\n",
    "   We can fill in those `nan`s by using pandas' `.fillna()` function.\n",
    "   \n",
    "   You have the `TotalPop` per state, and you have the `Men` per state. As an estimate for the `nan` values in the `Women` column, you could use the `TotalPop` of that state minus the `Men` for that state.\n",
    "   \n",
    "   Print out the `Women` column after filling the `nan` values to see if it worked!"
   ]
  },
  {
   "cell_type": "code",
   "execution_count": 28,
   "metadata": {},
   "outputs": [
    {
     "name": "stdout",
     "output_type": "stream",
     "text": [
      "<class 'pandas.core.frame.DataFrame'>\n",
      "Index: 60 entries, 0 to 5\n",
      "Data columns (total 13 columns):\n",
      " #   Column      Non-Null Count  Dtype  \n",
      "---  ------      --------------  -----  \n",
      " 0   Unnamed: 0  60 non-null     int64  \n",
      " 1   State       60 non-null     object \n",
      " 2   TotalPop    60 non-null     int64  \n",
      " 3   Hispanic    60 non-null     object \n",
      " 4   White       60 non-null     object \n",
      " 5   Black       60 non-null     object \n",
      " 6   Native      60 non-null     object \n",
      " 7   Asian       60 non-null     object \n",
      " 8   Pacific     55 non-null     object \n",
      " 9   Income      60 non-null     float64\n",
      " 10  GenderPop   60 non-null     object \n",
      " 11  Men         60 non-null     int64  \n",
      " 12  Women       60 non-null     float64\n",
      "dtypes: float64(2), int64(3), object(8)\n",
      "memory usage: 6.6+ KB\n",
      "None\n"
     ]
    }
   ],
   "source": [
    "census_df.Women.fillna(0, inplace=True)\n",
    "print(census_df.info())"
   ]
  },
  {
   "cell_type": "code",
   "execution_count": 29,
   "metadata": {},
   "outputs": [
    {
     "data": {
      "image/png": "[encoded data removed]",
      "text/plain": [
       "<Figure size 640x480 with 1 Axes>"
      ]
     },
     "metadata": {},
     "output_type": "display_data"
    },
    {
     "data": {
      "text/plain": [
       "<Figure size 640x480 with 0 Axes>"
      ]
     },
     "metadata": {},
     "output_type": "display_data"
    }
   ],
   "source": [
    "plt.scatter(census_df.Women, census_df.Income)\n",
    "plt.show()\n",
    "plt.clf()"
   ]
  },
  {
   "cell_type": "markdown",
   "metadata": {},
   "source": [
    "10. We forgot to check for duplicates! Use `.duplicated()` on your `census` DataFrame to see if we have duplicate rows in there."
   ]
  },
  {
   "cell_type": "code",
   "execution_count": 30,
   "metadata": {},
   "outputs": [
    {
     "name": "stdout",
     "output_type": "stream",
     "text": [
      "0    False\n",
      "1    False\n",
      "2    False\n",
      "3    False\n",
      "4    False\n",
      "5    False\n",
      "0    False\n",
      "1    False\n",
      "2    False\n",
      "3    False\n",
      "4    False\n",
      "5    False\n",
      "0    False\n",
      "1    False\n",
      "2    False\n",
      "3    False\n",
      "4    False\n",
      "5    False\n",
      "0    False\n",
      "1    False\n",
      "2    False\n",
      "3    False\n",
      "4    False\n",
      "5    False\n",
      "0    False\n",
      "1    False\n",
      "2    False\n",
      "3    False\n",
      "4    False\n",
      "5    False\n",
      "0    False\n",
      "1    False\n",
      "2    False\n",
      "3    False\n",
      "4    False\n",
      "5    False\n",
      "0    False\n",
      "1    False\n",
      "2    False\n",
      "3    False\n",
      "4    False\n",
      "5    False\n",
      "0    False\n",
      "1    False\n",
      "2    False\n",
      "3    False\n",
      "4    False\n",
      "5    False\n",
      "0    False\n",
      "1    False\n",
      "2    False\n",
      "3    False\n",
      "4    False\n",
      "5    False\n",
      "0    False\n",
      "1    False\n",
      "2    False\n",
      "3    False\n",
      "4    False\n",
      "5    False\n",
      "dtype: bool\n"
     ]
    }
   ],
   "source": [
    "print(census_df.duplicated())"
   ]
  },
  {
   "cell_type": "markdown",
   "metadata": {},
   "source": [
    "11. Drop those duplicates using the `.drop_duplicates()` function."
   ]
  },
  {
   "cell_type": "code",
   "execution_count": null,
   "metadata": {},
   "outputs": [],
   "source": []
  },
  {
   "cell_type": "markdown",
   "metadata": {},
   "source": [
    "12. Make the scatterplot again. Now, it should be perfect! Your job is secure, for now."
   ]
  },
  {
   "cell_type": "code",
   "execution_count": null,
   "metadata": {},
   "outputs": [],
   "source": []
  },
  {
   "cell_type": "markdown",
   "metadata": {},
   "source": [
    "## Histogram of Races"
   ]
  },
  {
   "cell_type": "markdown",
   "metadata": {},
   "source": [
    "13. Now your boss wants you to make a bunch of histograms out of the race data that you have. Look at the `.columns` again to see what the race categories are."
   ]
  },
  {
   "cell_type": "code",
   "execution_count": null,
   "metadata": {},
   "outputs": [],
   "source": []
  },
  {
   "cell_type": "markdown",
   "metadata": {},
   "source": [
    "14. Try to make a histogram for each one!\n",
    "\n",
    "    You will have to get the columns into the numerical format, and those percentage signs will have to go.\n",
    "    \n",
    "    Don't forget to fill the `nan` values with something that makes sense! You probably dropped the duplicate rows when making your last graph, but it couldn't hurt to check for duplicates again."
   ]
  },
  {
   "cell_type": "code",
   "execution_count": null,
   "metadata": {},
   "outputs": [],
   "source": []
  },
  {
   "cell_type": "markdown",
   "metadata": {},
   "source": [
    "## Get Creative"
   ]
  },
  {
   "cell_type": "markdown",
   "metadata": {},
   "source": [
    "15. Phew. You've definitely impressed your boss on your first day of work.\n",
    "\n",
    "    But is there a way you really convey the power of pandas and Python over the drudgery of `csv` and Excel?\n",
    "    \n",
    "    Try to make some more interesting graphs to show your boss, and the world! You may need to clean the data even more to do it, or the cleaning you have already done may give you the ease of manipulation you've been searching for."
   ]
  },
  {
   "cell_type": "code",
   "execution_count": null,
   "metadata": {},
   "outputs": [],
   "source": []
  }
 ],
 "metadata": {
  "kernelspec": {
   "display_name": "Python 3 (ipykernel)",
   "language": "python",
   "name": "python3"
  },
  "language_info": {
   "codemirror_mode": {
    "name": "ipython",
    "version": 3
   },
   "file_extension": ".py",
   "mimetype": "text/x-python",
   "name": "python",
   "nbconvert_exporter": "python",
   "pygments_lexer": "ipython3",
   "version": "3.10.14"
  }
 },
 "nbformat": 4,
 "nbformat_minor": 4
}
